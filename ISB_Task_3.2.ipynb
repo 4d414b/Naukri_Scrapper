{
 "cells": [
  {
   "cell_type": "code",
   "execution_count": 1,
   "metadata": {},
   "outputs": [],
   "source": [
    "import pandas as pd\n",
    "import xlrd\n",
    "import numpy as np \n",
    "import regex as re\n",
    "import string\n",
    "import csv\n",
    "from nltk.corpus import stopwords\n",
    "from nltk.tokenize import word_tokenize\n",
    "from nltk.stem import WordNetLemmatizer\n",
    "from wordcloud import WordCloud\n",
    "import matplotlib\n",
    "from sklearn.feature_extraction.text import TfidfVectorizer\n",
    "from sklearn.cluster import MiniBatchKMeans"
   ]
  },
  {
   "cell_type": "code",
   "execution_count": 2,
   "metadata": {},
   "outputs": [],
   "source": [
    "dfs = pd.read_excel('Company Descriptions.xlsx', sheet_name='Sheet1')"
   ]
  },
  {
   "cell_type": "code",
   "execution_count": 3,
   "metadata": {},
   "outputs": [
    {
     "data": {
      "text/html": [
       "<div>\n",
       "<style scoped>\n",
       "    .dataframe tbody tr th:only-of-type {\n",
       "        vertical-align: middle;\n",
       "    }\n",
       "\n",
       "    .dataframe tbody tr th {\n",
       "        vertical-align: top;\n",
       "    }\n",
       "\n",
       "    .dataframe thead th {\n",
       "        text-align: right;\n",
       "    }\n",
       "</style>\n",
       "<table border=\"1\" class=\"dataframe\">\n",
       "  <thead>\n",
       "    <tr style=\"text-align: right;\">\n",
       "      <th></th>\n",
       "      <th>company_name</th>\n",
       "      <th>company_short_description</th>\n",
       "      <th>company_description</th>\n",
       "    </tr>\n",
       "  </thead>\n",
       "  <tbody>\n",
       "    <tr>\n",
       "      <th>0</th>\n",
       "      <td>Codementor</td>\n",
       "      <td>Codementor is an online marketplace connecting...</td>\n",
       "      <td>Codementor provides live 1:1 help for software...</td>\n",
       "    </tr>\n",
       "    <tr>\n",
       "      <th>1</th>\n",
       "      <td>AgShift</td>\n",
       "      <td>AgShift is designing world's most advanced aut...</td>\n",
       "      <td>AgShift solution blends Deep Learning with Com...</td>\n",
       "    </tr>\n",
       "    <tr>\n",
       "      <th>2</th>\n",
       "      <td>Shipsi</td>\n",
       "      <td>Shipsi empowers any retailer with the ability ...</td>\n",
       "      <td>Shipsi empowers any retailer with the ability ...</td>\n",
       "    </tr>\n",
       "    <tr>\n",
       "      <th>3</th>\n",
       "      <td>OpenNews</td>\n",
       "      <td>OpenNews helps a global network of developers,...</td>\n",
       "      <td>We're helping a global network of developers, ...</td>\n",
       "    </tr>\n",
       "    <tr>\n",
       "      <th>4</th>\n",
       "      <td>Biobot Analytics</td>\n",
       "      <td>Biobot Analytics analyzes city sewage to estim...</td>\n",
       "      <td>Biobot Analytics analyzes sewage to estimate o...</td>\n",
       "    </tr>\n",
       "  </tbody>\n",
       "</table>\n",
       "</div>"
      ],
      "text/plain": [
       "       company_name                          company_short_description  \\\n",
       "0        Codementor  Codementor is an online marketplace connecting...   \n",
       "1           AgShift  AgShift is designing world's most advanced aut...   \n",
       "2            Shipsi  Shipsi empowers any retailer with the ability ...   \n",
       "3          OpenNews  OpenNews helps a global network of developers,...   \n",
       "4  Biobot Analytics  Biobot Analytics analyzes city sewage to estim...   \n",
       "\n",
       "                                 company_description  \n",
       "0  Codementor provides live 1:1 help for software...  \n",
       "1  AgShift solution blends Deep Learning with Com...  \n",
       "2  Shipsi empowers any retailer with the ability ...  \n",
       "3  We're helping a global network of developers, ...  \n",
       "4  Biobot Analytics analyzes sewage to estimate o...  "
      ]
     },
     "execution_count": 3,
     "metadata": {},
     "output_type": "execute_result"
    }
   ],
   "source": [
    "dfs.head()"
   ]
  },
  {
   "cell_type": "code",
   "execution_count": 4,
   "metadata": {},
   "outputs": [
    {
     "name": "stdout",
     "output_type": "stream",
     "text": [
      "19965\n"
     ]
    }
   ],
   "source": [
    "print(len(dfs))"
   ]
  },
  {
   "cell_type": "code",
   "execution_count": 5,
   "metadata": {},
   "outputs": [
    {
     "data": {
      "text/plain": [
       "0    Codementor provides live 1:1 help for software...\n",
       "1    AgShift solution blends Deep Learning with Com...\n",
       "2    Shipsi empowers any retailer with the ability ...\n",
       "3    We're helping a global network of developers, ...\n",
       "4    Biobot Analytics analyzes sewage to estimate o...\n",
       "Name: company_description, dtype: object"
      ]
     },
     "execution_count": 5,
     "metadata": {},
     "output_type": "execute_result"
    }
   ],
   "source": [
    "comp_disc = dfs.company_description.astype('U')\n",
    "comp_disc.head()"
   ]
  },
  {
   "cell_type": "code",
   "execution_count": 6,
   "metadata": {},
   "outputs": [],
   "source": [
    "tfidf = TfidfVectorizer(min_df = 5, max_df = 0.95, max_features = 8000, stop_words = 'english')\n",
    "tfidf.fit(comp_disc)\n",
    "text_token = tfidf.transform(comp_disc)"
   ]
  },
  {
   "cell_type": "code",
   "execution_count": 7,
   "metadata": {},
   "outputs": [],
   "source": [
    "clusters = MiniBatchKMeans(n_clusters=4, init_size=1024, batch_size=2048, random_state=20).fit_predict(text_token)"
   ]
  },
  {
   "cell_type": "code",
   "execution_count": 8,
   "metadata": {},
   "outputs": [
    {
     "name": "stdout",
     "output_type": "stream",
     "text": [
      "\n",
      "Cluster 0\n",
      "people,new,world,based,com,online,technology,mobile,company,platform\n",
      "\n",
      "Cluster 1\n",
      "based,service,company,business,provides,management,software,services,solutions,data\n",
      "\n",
      "Cluster 2\n",
      "esports,espn,especially,escape,errors,error,erp,established,zynga,nan\n",
      "\n",
      "Cluster 3\n",
      "diseases,development,therapeutics,care,clinical,health,patients,treatment,medical,company\n"
     ]
    }
   ],
   "source": [
    "def top_keywords(data, clusters, labels, n_terms):\n",
    "    df = pd.DataFrame(data.todense()).groupby(clusters).mean()\n",
    "    \n",
    "    for i,r in df.iterrows():\n",
    "        print('\\nCluster {}'.format(i))\n",
    "        print(','.join([labels[t] for t in np.argsort(r)[-n_terms:]]))\n",
    "            \n",
    "top_keywords(text_token, clusters, tfidf.get_feature_names(), 10)"
   ]
  },
  {
   "cell_type": "code",
   "execution_count": 9,
   "metadata": {},
   "outputs": [],
   "source": [
    "wb = xlrd.open_workbook(\"Company Descriptions.xlsx\")   \n",
    "sheet = wb.sheet_by_index(0)\n",
    "row_list = [[\"company\",\"cluster\"]]\n",
    "for i in range(1,19966):\n",
    "    j=clusters[i-1]\n",
    "  #sheet1.cell_value(j+1, 0)\n",
    "    row_list.append([sheet.cell_value(i,0),j])\n",
    "with open('ISB_Task_3_2.csv', 'w', newline='', encoding =\"utf8\") as file:\n",
    "    writer = csv.writer(file)\n",
    "    writer.writerows(row_list)"
   ]
  },
  {
   "cell_type": "code",
   "execution_count": null,
   "metadata": {},
   "outputs": [],
   "source": []
  }
 ],
 "metadata": {
  "kernelspec": {
   "display_name": "Python 3",
   "language": "python",
   "name": "python3"
  },
  "language_info": {
   "codemirror_mode": {
    "name": "ipython",
    "version": 3
   },
   "file_extension": ".py",
   "mimetype": "text/x-python",
   "name": "python",
   "nbconvert_exporter": "python",
   "pygments_lexer": "ipython3",
   "version": "3.8.5"
  }
 },
 "nbformat": 4,
 "nbformat_minor": 2
}
